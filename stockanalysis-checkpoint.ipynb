{
 "cells": [
  {
   "cell_type": "code",
   "execution_count": 54,
   "metadata": {},
   "outputs": [],
   "source": [
    "import pandas as pd\n",
    "import numpy as np\n",
    "import matplotlib.pyplot as plt\n",
    "import yfinance as yf"
   ]
  },
  {
   "cell_type": "code",
   "execution_count": 55,
   "metadata": {},
   "outputs": [
    {
     "name": "stdout",
     "output_type": "stream",
     "text": [
      "[*********************100%%**********************]  1 of 1 completed\n"
     ]
    }
   ],
   "source": [
    "df = yf.download('JIOFIN.NS', start='2023-01-01')\n",
    "df_close = df[\"Close\"].copy()\n",
    "jiofin = df_close.copy().to_frame()\n",
    "jiofin['pct_change'] = jiofin.Close.pct_change(periods=1)\n",
    "jiofin.dropna(inplace=True)\n",
    "jiofin['Equity'] = 100 * (jiofin['pct_change'] + 1).cumprod()"
   ]
  },
  {
   "cell_type": "code",
   "execution_count": 56,
   "metadata": {},
   "outputs": [
    {
     "name": "stdout",
     "output_type": "stream",
     "text": [
      "\n",
      "================================================================================\n",
      "STRATEGY METRICS:\n",
      "--------------------------------------------------------------------------------\n",
      "   Maximum Drawdown(%)  Net Startegy Return(%)  \\\n",
      "0           -18.996274              -12.756127   \n",
      "\n",
      "   Final Return On Investment on invest(default=Rs100)  \\\n",
      "0                                          87.243873     \n",
      "\n",
      "   Annualized Sharpe Ratio(risk_free_rate = 3%)  \n",
      "0                                     -0.105751  \n",
      "--------------------------------------------------------------------------------\n"
     ]
    }
   ],
   "source": [
    "#drawdown_calculation\n",
    "drawdown = jiofin.Equity\n",
    "drawdown = pd.concat([pd.Series([100], index=[drawdown.index[0]]), drawdown])\n",
    "max_data = drawdown.rolling(window=len(drawdown),min_periods=1).max()\n",
    "dd = drawdown/max_data - 1\n",
    "MDD = dd.rolling(window=len(drawdown),min_periods=1).min()\n",
    "max_drawdown = MDD.min()*100\n",
    "max_drawdown\n",
    "\n",
    "#Net_Strategy_Return\n",
    "profit_perc= jiofin['pct_change']\n",
    "list_profits = (profit_perc + 1).cumprod()\n",
    "list_profits_df = list_profits.to_frame()\n",
    "last_profit = list_profits_df.tail(1).iloc[0, 0]\n",
    "net_strategy_return_perc = (last_profit - 1) * 100\n",
    "net_strategy_return_perc\n",
    "\n",
    "#Final_Return_on_investment\n",
    "init_inv=100\n",
    "inv_ret=init_inv*(profit_perc + 1).cumprod()\n",
    "final_roi=inv_ret[len(inv_ret)-1]\n",
    "\n",
    "#Daily_return\n",
    "daily_ret = jiofin['pct_change'].mean()\n",
    "\n",
    "#Daily_Sharpe_ratio\n",
    "volatality=jiofin['pct_change'].std()\n",
    "risk_free_rate = 0.0\n",
    "sharpe_ratio=(daily_ret-risk_free_rate)/volatality\n",
    "\n",
    "metrics_df = pd.DataFrame(data={\n",
    "'Maximum Drawdown(%)': max_drawdown,\n",
    "'Net Startegy Return(%)': net_strategy_return_perc,\n",
    "'Final Return On Investment on invest(default=Rs100)': final_roi,\n",
    "'Annualized Sharpe Ratio(risk_free_rate = 3%)':sharpe_ratio,\n",
    "\n",
    "}, index=[0])\n",
    "    \n",
    "print('')\n",
    "print('='*80)\n",
    "print('STRATEGY METRICS:')\n",
    "print('-'*80)\n",
    "print(metrics_df)\n",
    "print('-'*80)\n"
   ]
  }
 ],
 "metadata": {
  "kernelspec": {
   "display_name": "Python 3 (ipykernel)",
   "language": "python",
   "name": "python3"
  },
  "language_info": {
   "codemirror_mode": {
    "name": "ipython",
    "version": 3
   },
   "file_extension": ".py",
   "mimetype": "text/x-python",
   "name": "python",
   "nbconvert_exporter": "python",
   "pygments_lexer": "ipython3",
   "version": "3.9.12"
  }
 },
 "nbformat": 4,
 "nbformat_minor": 2
}
