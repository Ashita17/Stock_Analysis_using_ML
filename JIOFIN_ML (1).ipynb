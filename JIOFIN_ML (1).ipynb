{
  "cells": [
    {
      "cell_type": "code",
      "execution_count": 2,
      "metadata": {
        "id": "5aC-VHYk0F98"
      },
      "outputs": [
        {
          "ename": "NameError",
          "evalue": "name 'yf' is not defined",
          "output_type": "error",
          "traceback": [
            "\u001b[1;31m---------------------------------------------------------------------------\u001b[0m",
            "\u001b[1;31mNameError\u001b[0m                                 Traceback (most recent call last)",
            "\u001b[1;32mc:\\Users\\kusha\\OneDrive\\Desktop\\MLfinance\\JIOFIN_ML (1).ipynb Cell 1\u001b[0m line \u001b[0;36m<cell line: 2>\u001b[1;34m()\u001b[0m\n\u001b[0;32m      <a href='vscode-notebook-cell:/c%3A/Users/kusha/OneDrive/Desktop/MLfinance/JIOFIN_ML%20%281%29.ipynb#W0sZmlsZQ%3D%3D?line=0'>1</a>\u001b[0m \u001b[39mimport\u001b[39;00m \u001b[39mpandas\u001b[39;00m \u001b[39mas\u001b[39;00m \u001b[39mpd\u001b[39;00m\n\u001b[1;32m----> <a href='vscode-notebook-cell:/c%3A/Users/kusha/OneDrive/Desktop/MLfinance/JIOFIN_ML%20%281%29.ipynb#W0sZmlsZQ%3D%3D?line=1'>2</a>\u001b[0m df \u001b[39m=\u001b[39m yf\u001b[39m.\u001b[39mdownload(\u001b[39m'\u001b[39m\u001b[39mJIOFIN.NS\u001b[39m\u001b[39m'\u001b[39m, start\u001b[39m=\u001b[39m\u001b[39m'\u001b[39m\u001b[39m2023-01-01\u001b[39m\u001b[39m'\u001b[39m)\n",
            "\u001b[1;31mNameError\u001b[0m: name 'yf' is not defined"
          ]
        }
      ],
      "source": [
        "import pandas as pd\n",
        "df = pd.read_csv('JIOFIN.NS.csv')"
      ]
    },
    {
      "cell_type": "code",
      "execution_count": null,
      "metadata": {
        "colab": {
          "base_uri": "https://localhost:8080/",
          "height": 206
        },
        "id": "sVDcZNhr0Zza",
        "outputId": "8fb9fcfe-2f8f-4c98-9d52-deb8d13e527c"
      },
      "outputs": [
        {
          "data": {
            "text/html": [
              "\n",
              "  <div id=\"df-4cdaa53a-62b0-41a8-9183-076ba6b181db\" class=\"colab-df-container\">\n",
              "    <div>\n",
              "<style scoped>\n",
              "    .dataframe tbody tr th:only-of-type {\n",
              "        vertical-align: middle;\n",
              "    }\n",
              "\n",
              "    .dataframe tbody tr th {\n",
              "        vertical-align: top;\n",
              "    }\n",
              "\n",
              "    .dataframe thead th {\n",
              "        text-align: right;\n",
              "    }\n",
              "</style>\n",
              "<table border=\"1\" class=\"dataframe\">\n",
              "  <thead>\n",
              "    <tr style=\"text-align: right;\">\n",
              "      <th></th>\n",
              "      <th>Date</th>\n",
              "      <th>Open</th>\n",
              "      <th>High</th>\n",
              "      <th>Low</th>\n",
              "      <th>Close</th>\n",
              "      <th>Adj Close</th>\n",
              "      <th>Volume</th>\n",
              "    </tr>\n",
              "  </thead>\n",
              "  <tbody>\n",
              "    <tr>\n",
              "      <th>0</th>\n",
              "      <td>2023-08-21</td>\n",
              "      <td>262.000000</td>\n",
              "      <td>262.049988</td>\n",
              "      <td>248.899994</td>\n",
              "      <td>248.899994</td>\n",
              "      <td>248.899994</td>\n",
              "      <td>74715306</td>\n",
              "    </tr>\n",
              "    <tr>\n",
              "      <th>1</th>\n",
              "      <td>2023-08-22</td>\n",
              "      <td>236.449997</td>\n",
              "      <td>236.449997</td>\n",
              "      <td>236.449997</td>\n",
              "      <td>236.449997</td>\n",
              "      <td>236.449997</td>\n",
              "      <td>7281398</td>\n",
              "    </tr>\n",
              "    <tr>\n",
              "      <th>2</th>\n",
              "      <td>2023-08-23</td>\n",
              "      <td>224.649994</td>\n",
              "      <td>224.649994</td>\n",
              "      <td>224.649994</td>\n",
              "      <td>224.649994</td>\n",
              "      <td>224.649994</td>\n",
              "      <td>4289046</td>\n",
              "    </tr>\n",
              "    <tr>\n",
              "      <th>3</th>\n",
              "      <td>2023-08-24</td>\n",
              "      <td>213.449997</td>\n",
              "      <td>213.449997</td>\n",
              "      <td>213.449997</td>\n",
              "      <td>213.449997</td>\n",
              "      <td>213.449997</td>\n",
              "      <td>27673350</td>\n",
              "    </tr>\n",
              "    <tr>\n",
              "      <th>4</th>\n",
              "      <td>2023-08-25</td>\n",
              "      <td>202.800003</td>\n",
              "      <td>224.100006</td>\n",
              "      <td>202.800003</td>\n",
              "      <td>214.500000</td>\n",
              "      <td>214.500000</td>\n",
              "      <td>281040100</td>\n",
              "    </tr>\n",
              "  </tbody>\n",
              "</table>\n",
              "</div>\n",
              "    <div class=\"colab-df-buttons\">\n",
              "\n",
              "  <div class=\"colab-df-container\">\n",
              "    <button class=\"colab-df-convert\" onclick=\"convertToInteractive('df-4cdaa53a-62b0-41a8-9183-076ba6b181db')\"\n",
              "            title=\"Convert this dataframe to an interactive table.\"\n",
              "            style=\"display:none;\">\n",
              "\n",
              "  <svg xmlns=\"http://www.w3.org/2000/svg\" height=\"24px\" viewBox=\"0 -960 960 960\">\n",
              "    <path d=\"M120-120v-720h720v720H120Zm60-500h600v-160H180v160Zm220 220h160v-160H400v160Zm0 220h160v-160H400v160ZM180-400h160v-160H180v160Zm440 0h160v-160H620v160ZM180-180h160v-160H180v160Zm440 0h160v-160H620v160Z\"/>\n",
              "  </svg>\n",
              "    </button>\n",
              "\n",
              "  <style>\n",
              "    .colab-df-container {\n",
              "      display:flex;\n",
              "      gap: 12px;\n",
              "    }\n",
              "\n",
              "    .colab-df-convert {\n",
              "      background-color: #E8F0FE;\n",
              "      border: none;\n",
              "      border-radius: 50%;\n",
              "      cursor: pointer;\n",
              "      display: none;\n",
              "      fill: #1967D2;\n",
              "      height: 32px;\n",
              "      padding: 0 0 0 0;\n",
              "      width: 32px;\n",
              "    }\n",
              "\n",
              "    .colab-df-convert:hover {\n",
              "      background-color: #E2EBFA;\n",
              "      box-shadow: 0px 1px 2px rgba(60, 64, 67, 0.3), 0px 1px 3px 1px rgba(60, 64, 67, 0.15);\n",
              "      fill: #174EA6;\n",
              "    }\n",
              "\n",
              "    .colab-df-buttons div {\n",
              "      margin-bottom: 4px;\n",
              "    }\n",
              "\n",
              "    [theme=dark] .colab-df-convert {\n",
              "      background-color: #3B4455;\n",
              "      fill: #D2E3FC;\n",
              "    }\n",
              "\n",
              "    [theme=dark] .colab-df-convert:hover {\n",
              "      background-color: #434B5C;\n",
              "      box-shadow: 0px 1px 3px 1px rgba(0, 0, 0, 0.15);\n",
              "      filter: drop-shadow(0px 1px 2px rgba(0, 0, 0, 0.3));\n",
              "      fill: #FFFFFF;\n",
              "    }\n",
              "  </style>\n",
              "\n",
              "    <script>\n",
              "      const buttonEl =\n",
              "        document.querySelector('#df-4cdaa53a-62b0-41a8-9183-076ba6b181db button.colab-df-convert');\n",
              "      buttonEl.style.display =\n",
              "        google.colab.kernel.accessAllowed ? 'block' : 'none';\n",
              "\n",
              "      async function convertToInteractive(key) {\n",
              "        const element = document.querySelector('#df-4cdaa53a-62b0-41a8-9183-076ba6b181db');\n",
              "        const dataTable =\n",
              "          await google.colab.kernel.invokeFunction('convertToInteractive',\n",
              "                                                    [key], {});\n",
              "        if (!dataTable) return;\n",
              "\n",
              "        const docLinkHtml = 'Like what you see? Visit the ' +\n",
              "          '<a target=\"_blank\" href=https://colab.research.google.com/notebooks/data_table.ipynb>data table notebook</a>'\n",
              "          + ' to learn more about interactive tables.';\n",
              "        element.innerHTML = '';\n",
              "        dataTable['output_type'] = 'display_data';\n",
              "        await google.colab.output.renderOutput(dataTable, element);\n",
              "        const docLink = document.createElement('div');\n",
              "        docLink.innerHTML = docLinkHtml;\n",
              "        element.appendChild(docLink);\n",
              "      }\n",
              "    </script>\n",
              "  </div>\n",
              "\n",
              "\n",
              "<div id=\"df-92f433cf-db6d-45c4-9dcb-701fbe35a0b4\">\n",
              "  <button class=\"colab-df-quickchart\" onclick=\"quickchart('df-92f433cf-db6d-45c4-9dcb-701fbe35a0b4')\"\n",
              "            title=\"Suggest charts.\"\n",
              "            style=\"display:none;\">\n",
              "\n",
              "<svg xmlns=\"http://www.w3.org/2000/svg\" height=\"24px\"viewBox=\"0 0 24 24\"\n",
              "     width=\"24px\">\n",
              "    <g>\n",
              "        <path d=\"M19 3H5c-1.1 0-2 .9-2 2v14c0 1.1.9 2 2 2h14c1.1 0 2-.9 2-2V5c0-1.1-.9-2-2-2zM9 17H7v-7h2v7zm4 0h-2V7h2v10zm4 0h-2v-4h2v4z\"/>\n",
              "    </g>\n",
              "</svg>\n",
              "  </button>\n",
              "\n",
              "<style>\n",
              "  .colab-df-quickchart {\n",
              "      --bg-color: #E8F0FE;\n",
              "      --fill-color: #1967D2;\n",
              "      --hover-bg-color: #E2EBFA;\n",
              "      --hover-fill-color: #174EA6;\n",
              "      --disabled-fill-color: #AAA;\n",
              "      --disabled-bg-color: #DDD;\n",
              "  }\n",
              "\n",
              "  [theme=dark] .colab-df-quickchart {\n",
              "      --bg-color: #3B4455;\n",
              "      --fill-color: #D2E3FC;\n",
              "      --hover-bg-color: #434B5C;\n",
              "      --hover-fill-color: #FFFFFF;\n",
              "      --disabled-bg-color: #3B4455;\n",
              "      --disabled-fill-color: #666;\n",
              "  }\n",
              "\n",
              "  .colab-df-quickchart {\n",
              "    background-color: var(--bg-color);\n",
              "    border: none;\n",
              "    border-radius: 50%;\n",
              "    cursor: pointer;\n",
              "    display: none;\n",
              "    fill: var(--fill-color);\n",
              "    height: 32px;\n",
              "    padding: 0;\n",
              "    width: 32px;\n",
              "  }\n",
              "\n",
              "  .colab-df-quickchart:hover {\n",
              "    background-color: var(--hover-bg-color);\n",
              "    box-shadow: 0 1px 2px rgba(60, 64, 67, 0.3), 0 1px 3px 1px rgba(60, 64, 67, 0.15);\n",
              "    fill: var(--button-hover-fill-color);\n",
              "  }\n",
              "\n",
              "  .colab-df-quickchart-complete:disabled,\n",
              "  .colab-df-quickchart-complete:disabled:hover {\n",
              "    background-color: var(--disabled-bg-color);\n",
              "    fill: var(--disabled-fill-color);\n",
              "    box-shadow: none;\n",
              "  }\n",
              "\n",
              "  .colab-df-spinner {\n",
              "    border: 2px solid var(--fill-color);\n",
              "    border-color: transparent;\n",
              "    border-bottom-color: var(--fill-color);\n",
              "    animation:\n",
              "      spin 1s steps(1) infinite;\n",
              "  }\n",
              "\n",
              "  @keyframes spin {\n",
              "    0% {\n",
              "      border-color: transparent;\n",
              "      border-bottom-color: var(--fill-color);\n",
              "      border-left-color: var(--fill-color);\n",
              "    }\n",
              "    20% {\n",
              "      border-color: transparent;\n",
              "      border-left-color: var(--fill-color);\n",
              "      border-top-color: var(--fill-color);\n",
              "    }\n",
              "    30% {\n",
              "      border-color: transparent;\n",
              "      border-left-color: var(--fill-color);\n",
              "      border-top-color: var(--fill-color);\n",
              "      border-right-color: var(--fill-color);\n",
              "    }\n",
              "    40% {\n",
              "      border-color: transparent;\n",
              "      border-right-color: var(--fill-color);\n",
              "      border-top-color: var(--fill-color);\n",
              "    }\n",
              "    60% {\n",
              "      border-color: transparent;\n",
              "      border-right-color: var(--fill-color);\n",
              "    }\n",
              "    80% {\n",
              "      border-color: transparent;\n",
              "      border-right-color: var(--fill-color);\n",
              "      border-bottom-color: var(--fill-color);\n",
              "    }\n",
              "    90% {\n",
              "      border-color: transparent;\n",
              "      border-bottom-color: var(--fill-color);\n",
              "    }\n",
              "  }\n",
              "</style>\n",
              "\n",
              "  <script>\n",
              "    async function quickchart(key) {\n",
              "      const quickchartButtonEl =\n",
              "        document.querySelector('#' + key + ' button');\n",
              "      quickchartButtonEl.disabled = true;  // To prevent multiple clicks.\n",
              "      quickchartButtonEl.classList.add('colab-df-spinner');\n",
              "      try {\n",
              "        const charts = await google.colab.kernel.invokeFunction(\n",
              "            'suggestCharts', [key], {});\n",
              "      } catch (error) {\n",
              "        console.error('Error during call to suggestCharts:', error);\n",
              "      }\n",
              "      quickchartButtonEl.classList.remove('colab-df-spinner');\n",
              "      quickchartButtonEl.classList.add('colab-df-quickchart-complete');\n",
              "    }\n",
              "    (() => {\n",
              "      let quickchartButtonEl =\n",
              "        document.querySelector('#df-92f433cf-db6d-45c4-9dcb-701fbe35a0b4 button');\n",
              "      quickchartButtonEl.style.display =\n",
              "        google.colab.kernel.accessAllowed ? 'block' : 'none';\n",
              "    })();\n",
              "  </script>\n",
              "</div>\n",
              "    </div>\n",
              "  </div>\n"
            ],
            "text/plain": [
              "         Date        Open        High         Low       Close   Adj Close  \\\n",
              "0  2023-08-21  262.000000  262.049988  248.899994  248.899994  248.899994   \n",
              "1  2023-08-22  236.449997  236.449997  236.449997  236.449997  236.449997   \n",
              "2  2023-08-23  224.649994  224.649994  224.649994  224.649994  224.649994   \n",
              "3  2023-08-24  213.449997  213.449997  213.449997  213.449997  213.449997   \n",
              "4  2023-08-25  202.800003  224.100006  202.800003  214.500000  214.500000   \n",
              "\n",
              "      Volume  \n",
              "0   74715306  \n",
              "1    7281398  \n",
              "2    4289046  \n",
              "3   27673350  \n",
              "4  281040100  "
            ]
          },
          "execution_count": 3,
          "metadata": {},
          "output_type": "execute_result"
        }
      ],
      "source": [
        "df.head()\n"
      ]
    },
    {
      "cell_type": "code",
      "execution_count": null,
      "metadata": {
        "colab": {
          "base_uri": "https://localhost:8080/"
        },
        "id": "kL6SjPd60buj",
        "outputId": "c05651ee-8e93-4a05-b0cf-60c959243d86"
      },
      "outputs": [
        {
          "data": {
            "text/plain": [
              "0     248.899994\n",
              "1     236.449997\n",
              "2     224.649994\n",
              "3     213.449997\n",
              "4     214.500000\n",
              "5     211.149994\n",
              "6     220.250000\n",
              "7     231.250000\n",
              "8     233.500000\n",
              "9     245.149994\n",
              "10    253.449997\n",
              "11    255.050003\n",
              "12    252.850006\n",
              "13    251.800003\n",
              "14    253.199997\n",
              "15    250.149994\n",
              "16    244.250000\n",
              "17    240.199997\n",
              "18    242.550003\n",
              "19    239.399994\n",
              "20    233.199997\n",
              "21    229.649994\n",
              "22    227.649994\n",
              "23    227.800003\n",
              "24    229.750000\n",
              "25    230.399994\n",
              "26    227.350006\n",
              "27    225.050003\n",
              "28    231.199997\n",
              "29    231.399994\n",
              "30    224.649994\n",
              "31    225.399994\n",
              "32    225.100006\n",
              "33    219.649994\n",
              "34    220.149994\n",
              "35    225.100006\n",
              "36    225.149994\n",
              "37    224.550003\n",
              "38    224.800003\n",
              "39    220.949997\n",
              "40    216.000000\n",
              "41    214.199997\n",
              "42    214.199997\n",
              "43    206.600006\n",
              "44    210.149994\n",
              "45    215.850006\n",
              "46    222.899994\n",
              "Name: Close, dtype: float64"
            ]
          },
          "execution_count": 4,
          "metadata": {},
          "output_type": "execute_result"
        }
      ],
      "source": [
        "df = df['Close']\n",
        "df"
      ]
    },
    {
      "cell_type": "code",
      "execution_count": null,
      "metadata": {
        "colab": {
          "base_uri": "https://localhost:8080/",
          "height": 447
        },
        "id": "Bhk8XfgS5tl_",
        "outputId": "5d00b2e4-d4e6-4bfe-9920-c4cc9cfdb6e8"
      },
      "outputs": [
        {
          "data": {
            "text/plain": [
              "[<matplotlib.lines.Line2D at 0x7c3d64763d30>]"
            ]
          },
          "execution_count": 5,
          "metadata": {},
          "output_type": "execute_result"
        },
        {
          "data": {
            "image/png": "[encoded data removed]",
            "text/plain": [
              "<Figure size 640x480 with 1 Axes>"
            ]
          },
          "metadata": {},
          "output_type": "display_data"
        }
      ],
      "source": [
        "import matplotlib.pyplot as plt\n",
        "plt.plot(df)"
      ]
    },
    {
      "cell_type": "code",
      "execution_count": null,
      "metadata": {
        "id": "LoRqQG4FdKe9"
      },
      "outputs": [],
      "source": [
        "import numpy as np"
      ]
    },
    {
      "cell_type": "code",
      "execution_count": null,
      "metadata": {
        "id": "D2APwOlWqLgq"
      },
      "outputs": [],
      "source": [
        "from sklearn.preprocessing import MinMaxScaler\n",
        "scaler=MinMaxScaler(feature_range=(0,1))\n",
        "df1=scaler.fit_transform(np.array(df).reshape(-1,1))"
      ]
    },
    {
      "cell_type": "code",
      "execution_count": null,
      "metadata": {
        "colab": {
          "base_uri": "https://localhost:8080/"
        },
        "id": "9P6D8HoeqOP1",
        "outputId": "5aa3415e-c941-4cc7-fcad-caa868e990e5"
      },
      "outputs": [
        {
          "name": "stdout",
          "output_type": "stream",
          "text": [
            "[[0.87306482]\n",
            " [0.61609892]\n",
            " [0.37254879]\n",
            " [0.14138269]\n",
            " [0.16305458]\n",
            " [0.09391101]\n",
            " [0.28173364]\n",
            " [0.50877184]\n",
            " [0.55521147]\n",
            " [0.79566544]\n",
            " [0.96697614]\n",
            " [1.        ]\n",
            " [0.95459242]\n",
            " [0.93292053]\n",
            " [0.96181618]\n",
            " [0.89886462]\n",
            " [0.77708971]\n",
            " [0.69349831]\n",
            " [0.74200205]\n",
            " [0.67698638]\n",
            " [0.54901946]\n",
            " [0.47574798]\n",
            " [0.4344683 ]\n",
            " [0.43756446]\n",
            " [0.47781208]\n",
            " [0.49122785]\n",
            " [0.4282766 ]\n",
            " [0.38080492]\n",
            " [0.50773978]\n",
            " [0.51186769]\n",
            " [0.37254879]\n",
            " [0.38802867]\n",
            " [0.38183697]\n",
            " [0.26934961]\n",
            " [0.27966953]\n",
            " [0.38183697]\n",
            " [0.38286871]\n",
            " [0.370485  ]\n",
            " [0.37564496]\n",
            " [0.29618146]\n",
            " [0.19401434]\n",
            " [0.15686257]\n",
            " [0.15686257]\n",
            " [0.        ]\n",
            " [0.07327117]\n",
            " [0.19091848]\n",
            " [0.33642908]]\n"
          ]
        }
      ],
      "source": [
        "print(df1)"
      ]
    },
    {
      "cell_type": "code",
      "execution_count": null,
      "metadata": {
        "colab": {
          "base_uri": "https://localhost:8080/"
        },
        "id": "cGCuFKwdqToK",
        "outputId": "5948eac0-db48-4b30-ac64-0a1a248d4118"
      },
      "outputs": [
        {
          "data": {
            "text/plain": [
              "(30, 17)"
            ]
          },
          "execution_count": 9,
          "metadata": {},
          "output_type": "execute_result"
        }
      ],
      "source": [
        "##splitting dataset into train and test split\n",
        "training_size=int(len(df1)*0.65)\n",
        "test_size=len(df1)-training_size\n",
        "train_data,test_data=df1[0:training_size,:],df1[training_size:len(df1),:1]\n",
        "training_size,test_size"
      ]
    },
    {
      "cell_type": "code",
      "execution_count": null,
      "metadata": {
        "colab": {
          "base_uri": "https://localhost:8080/"
        },
        "id": "jFnRs5oiqfAO",
        "outputId": "80bd6c6b-6d61-49ab-d598-95d51ffdce31"
      },
      "outputs": [
        {
          "data": {
            "text/plain": [
              "array([[0.87306482],\n",
              "       [0.61609892],\n",
              "       [0.37254879],\n",
              "       [0.14138269],\n",
              "       [0.16305458],\n",
              "       [0.09391101],\n",
              "       [0.28173364],\n",
              "       [0.50877184],\n",
              "       [0.55521147],\n",
              "       [0.79566544],\n",
              "       [0.96697614],\n",
              "       [1.        ],\n",
              "       [0.95459242],\n",
              "       [0.93292053],\n",
              "       [0.96181618],\n",
              "       [0.89886462],\n",
              "       [0.77708971],\n",
              "       [0.69349831],\n",
              "       [0.74200205],\n",
              "       [0.67698638],\n",
              "       [0.54901946],\n",
              "       [0.47574798],\n",
              "       [0.4344683 ],\n",
              "       [0.43756446],\n",
              "       [0.47781208],\n",
              "       [0.49122785],\n",
              "       [0.4282766 ],\n",
              "       [0.38080492],\n",
              "       [0.50773978],\n",
              "       [0.51186769]])"
            ]
          },
          "execution_count": 10,
          "metadata": {},
          "output_type": "execute_result"
        }
      ],
      "source": [
        "train_data"
      ]
    },
    {
      "cell_type": "code",
      "execution_count": null,
      "metadata": {
        "id": "Y6LCdKPtqrlu"
      },
      "outputs": [],
      "source": [
        "import numpy\n",
        "# convert an array of values into a dataset matrix\n",
        "def create_dataset(dataset, time_step=1):\n",
        "\tdataX, dataY = [], []\n",
        "\tfor i in range(len(dataset)-time_step-1):\n",
        "\t\ta = dataset[i:(i+time_step), 0]   ###i=0, 0,1,2,3-----99   100\n",
        "\t\tdataX.append(a)\n",
        "\t\tdataY.append(dataset[i + time_step, 0])\n",
        "\treturn numpy.array(dataX), numpy.array(dataY)"
      ]
    },
    {
      "cell_type": "code",
      "execution_count": null,
      "metadata": {
        "id": "Gr9ULFw4qvEd"
      },
      "outputs": [],
      "source": [
        "# reshape into X=t,t+1,t+2,t+3 and Y=t+4\n",
        "time_step = 5\n",
        "X_train, y_train = create_dataset(train_data, time_step)\n",
        "X_test, ytest = create_dataset(test_data, time_step)"
      ]
    },
    {
      "cell_type": "code",
      "execution_count": null,
      "metadata": {
        "colab": {
          "base_uri": "https://localhost:8080/"
        },
        "id": "LbXja_-Sq1pg",
        "outputId": "2ee86b78-74c5-4990-ce73-ee004cb415c4"
      },
      "outputs": [
        {
          "name": "stdout",
          "output_type": "stream",
          "text": [
            "(24, 5)\n",
            "(24,)\n"
          ]
        },
        {
          "data": {
            "text/plain": [
              "(None, None)"
            ]
          },
          "execution_count": 13,
          "metadata": {},
          "output_type": "execute_result"
        }
      ],
      "source": [
        "print(X_train.shape), print(y_train.shape)"
      ]
    },
    {
      "cell_type": "code",
      "execution_count": null,
      "metadata": {
        "colab": {
          "base_uri": "https://localhost:8080/"
        },
        "id": "82hZaFrrq30B",
        "outputId": "d204226e-628b-4278-a1a6-34c114072860"
      },
      "outputs": [
        {
          "name": "stdout",
          "output_type": "stream",
          "text": [
            "(11, 5)\n",
            "(11,)\n"
          ]
        },
        {
          "data": {
            "text/plain": [
              "(None, None)"
            ]
          },
          "execution_count": 14,
          "metadata": {},
          "output_type": "execute_result"
        }
      ],
      "source": [
        "print(X_test.shape), print(ytest.shape)"
      ]
    },
    {
      "cell_type": "code",
      "execution_count": null,
      "metadata": {
        "id": "bgYPkZFcrpEY"
      },
      "outputs": [],
      "source": [
        "# reshape input to be [samples, time steps, features] which is required for LSTM\n",
        "X_train =X_train.reshape(X_train.shape[0],X_train.shape[1] , 1)\n",
        "X_test = X_test.reshape(X_test.shape[0],X_test.shape[1] , 1)"
      ]
    },
    {
      "cell_type": "code",
      "execution_count": null,
      "metadata": {
        "id": "J3d0hhnwrsES"
      },
      "outputs": [],
      "source": [
        "### Create the Stacked LSTM model\n",
        "from tensorflow.keras.models import Sequential\n",
        "from tensorflow.keras.layers import Dense\n",
        "from tensorflow.keras.layers import LSTM"
      ]
    },
    {
      "cell_type": "code",
      "execution_count": null,
      "metadata": {
        "id": "JRlZ2y6gru5A"
      },
      "outputs": [],
      "source": [
        "model=Sequential()\n",
        "model.add(LSTM(50,return_sequences=True,input_shape=(5,1)))\n",
        "model.add(LSTM(50,return_sequences=True))\n",
        "model.add(LSTM(50))\n",
        "model.add(Dense(1))\n",
        "model.compile(loss='mean_squared_error',optimizer='adam')"
      ]
    },
    {
      "cell_type": "code",
      "execution_count": null,
      "metadata": {
        "colab": {
          "base_uri": "https://localhost:8080/"
        },
        "id": "ykjIZpgOr_dP",
        "outputId": "01446363-7e20-4ad4-bbab-2988e6b80282"
      },
      "outputs": [
        {
          "name": "stdout",
          "output_type": "stream",
          "text": [
            "Model: \"sequential\"\n",
            "_________________________________________________________________\n",
            " Layer (type)                Output Shape              Param #   \n",
            "=================================================================\n",
            " lstm (LSTM)                 (None, 5, 50)             10400     \n",
            "                                                                 \n",
            " lstm_1 (LSTM)               (None, 5, 50)             20200     \n",
            "                                                                 \n",
            " lstm_2 (LSTM)               (None, 50)                20200     \n",
            "                                                                 \n",
            " dense (Dense)               (None, 1)                 51        \n",
            "                                                                 \n",
            "=================================================================\n",
            "Total params: 50851 (198.64 KB)\n",
            "Trainable params: 50851 (198.64 KB)\n",
            "Non-trainable params: 0 (0.00 Byte)\n",
            "_________________________________________________________________\n"
          ]
        }
      ],
      "source": [
        "model.summary()"
      ]
    },
    {
      "cell_type": "code",
      "execution_count": null,
      "metadata": {
        "colab": {
          "base_uri": "https://localhost:8080/"
        },
        "id": "IcIpLONDsCn1",
        "outputId": "cfa434e9-c3c2-4a34-e470-10cdbecb73a5"
      },
      "outputs": [
        {
          "name": "stdout",
          "output_type": "stream",
          "text": [
            "Epoch 1/100\n",
            "6/6 [==============================] - 6s 234ms/step - loss: 0.4040 - val_loss: 0.0384\n",
            "Epoch 2/100\n",
            "6/6 [==============================] - 0s 14ms/step - loss: 0.2493 - val_loss: 0.0151\n",
            "Epoch 3/100\n",
            "6/6 [==============================] - 0s 12ms/step - loss: 0.1073 - val_loss: 0.0950\n",
            "Epoch 4/100\n",
            "6/6 [==============================] - 0s 15ms/step - loss: 0.0776 - val_loss: 0.1114\n",
            "Epoch 5/100\n",
            "6/6 [==============================] - 0s 11ms/step - loss: 0.0636 - val_loss: 0.0588\n",
            "Epoch 6/100\n",
            "6/6 [==============================] - 0s 12ms/step - loss: 0.0596 - val_loss: 0.0527\n",
            "Epoch 7/100\n",
            "6/6 [==============================] - 0s 12ms/step - loss: 0.0599 - val_loss: 0.0737\n",
            "Epoch 8/100\n",
            "6/6 [==============================] - 0s 12ms/step - loss: 0.0545 - val_loss: 0.0819\n",
            "Epoch 9/100\n",
            "6/6 [==============================] - 0s 14ms/step - loss: 0.0562 - val_loss: 0.0915\n",
            "Epoch 10/100\n",
            "6/6 [==============================] - 0s 14ms/step - loss: 0.0544 - val_loss: 0.0859\n",
            "Epoch 11/100\n",
            "6/6 [==============================] - 0s 14ms/step - loss: 0.0537 - val_loss: 0.0792\n",
            "Epoch 12/100\n",
            "6/6 [==============================] - 0s 14ms/step - loss: 0.0540 - val_loss: 0.0792\n",
            "Epoch 13/100\n",
            "6/6 [==============================] - 0s 14ms/step - loss: 0.0543 - val_loss: 0.0831\n",
            "Epoch 14/100\n",
            "6/6 [==============================] - 0s 14ms/step - loss: 0.0534 - val_loss: 0.0958\n",
            "Epoch 15/100\n",
            "6/6 [==============================] - 0s 12ms/step - loss: 0.0535 - val_loss: 0.0902\n",
            "Epoch 16/100\n",
            "6/6 [==============================] - 0s 12ms/step - loss: 0.0529 - val_loss: 0.0843\n",
            "Epoch 17/100\n",
            "6/6 [==============================] - 0s 13ms/step - loss: 0.0547 - val_loss: 0.0942\n",
            "Epoch 18/100\n",
            "6/6 [==============================] - 0s 15ms/step - loss: 0.0525 - val_loss: 0.0847\n",
            "Epoch 19/100\n",
            "6/6 [==============================] - 0s 11ms/step - loss: 0.0536 - val_loss: 0.0941\n",
            "Epoch 20/100\n",
            "6/6 [==============================] - 0s 14ms/step - loss: 0.0523 - val_loss: 0.0830\n",
            "Epoch 21/100\n",
            "6/6 [==============================] - 0s 12ms/step - loss: 0.0540 - val_loss: 0.1009\n",
            "Epoch 22/100\n",
            "6/6 [==============================] - 0s 14ms/step - loss: 0.0519 - val_loss: 0.0952\n",
            "Epoch 23/100\n",
            "6/6 [==============================] - 0s 14ms/step - loss: 0.0506 - val_loss: 0.0905\n",
            "Epoch 24/100\n",
            "6/6 [==============================] - 0s 14ms/step - loss: 0.0516 - val_loss: 0.0821\n",
            "Epoch 25/100\n",
            "6/6 [==============================] - 0s 14ms/step - loss: 0.0513 - val_loss: 0.0989\n",
            "Epoch 26/100\n",
            "6/6 [==============================] - 0s 11ms/step - loss: 0.0513 - val_loss: 0.0918\n",
            "Epoch 27/100\n",
            "6/6 [==============================] - 0s 12ms/step - loss: 0.0500 - val_loss: 0.0943\n",
            "Epoch 28/100\n",
            "6/6 [==============================] - 0s 11ms/step - loss: 0.0494 - val_loss: 0.0917\n",
            "Epoch 29/100\n",
            "6/6 [==============================] - 0s 12ms/step - loss: 0.0491 - val_loss: 0.0919\n",
            "Epoch 30/100\n",
            "6/6 [==============================] - 0s 14ms/step - loss: 0.0514 - val_loss: 0.0798\n",
            "Epoch 31/100\n",
            "6/6 [==============================] - 0s 11ms/step - loss: 0.0484 - val_loss: 0.0980\n",
            "Epoch 32/100\n",
            "6/6 [==============================] - 0s 12ms/step - loss: 0.0499 - val_loss: 0.0901\n",
            "Epoch 33/100\n",
            "6/6 [==============================] - 0s 14ms/step - loss: 0.0481 - val_loss: 0.1034\n",
            "Epoch 34/100\n",
            "6/6 [==============================] - 0s 12ms/step - loss: 0.0469 - val_loss: 0.0889\n",
            "Epoch 35/100\n",
            "6/6 [==============================] - 0s 11ms/step - loss: 0.0468 - val_loss: 0.0903\n",
            "Epoch 36/100\n",
            "6/6 [==============================] - 0s 13ms/step - loss: 0.0465 - val_loss: 0.0851\n",
            "Epoch 37/100\n",
            "6/6 [==============================] - 0s 14ms/step - loss: 0.0463 - val_loss: 0.0871\n",
            "Epoch 38/100\n",
            "6/6 [==============================] - 0s 12ms/step - loss: 0.0448 - val_loss: 0.0920\n",
            "Epoch 39/100\n",
            "6/6 [==============================] - 0s 14ms/step - loss: 0.0443 - val_loss: 0.0981\n",
            "Epoch 40/100\n",
            "6/6 [==============================] - 0s 12ms/step - loss: 0.0435 - val_loss: 0.0763\n",
            "Epoch 41/100\n",
            "6/6 [==============================] - 0s 15ms/step - loss: 0.0398 - val_loss: 0.0912\n",
            "Epoch 42/100\n",
            "6/6 [==============================] - 0s 12ms/step - loss: 0.0423 - val_loss: 0.1016\n",
            "Epoch 43/100\n",
            "6/6 [==============================] - 0s 11ms/step - loss: 0.0413 - val_loss: 0.0656\n",
            "Epoch 44/100\n",
            "6/6 [==============================] - 0s 12ms/step - loss: 0.0352 - val_loss: 0.1000\n",
            "Epoch 45/100\n",
            "6/6 [==============================] - 0s 11ms/step - loss: 0.0402 - val_loss: 0.0720\n",
            "Epoch 46/100\n",
            "6/6 [==============================] - 0s 12ms/step - loss: 0.0322 - val_loss: 0.0832\n",
            "Epoch 47/100\n",
            "6/6 [==============================] - 0s 14ms/step - loss: 0.0333 - val_loss: 0.0875\n",
            "Epoch 48/100\n",
            "6/6 [==============================] - 0s 12ms/step - loss: 0.0263 - val_loss: 0.0820\n",
            "Epoch 49/100\n",
            "6/6 [==============================] - 0s 14ms/step - loss: 0.0224 - val_loss: 0.0762\n",
            "Epoch 50/100\n",
            "6/6 [==============================] - 0s 14ms/step - loss: 0.0172 - val_loss: 0.0738\n",
            "Epoch 51/100\n",
            "6/6 [==============================] - 0s 12ms/step - loss: 0.0142 - val_loss: 0.0554\n",
            "Epoch 52/100\n",
            "6/6 [==============================] - 0s 11ms/step - loss: 0.0210 - val_loss: 0.1036\n",
            "Epoch 53/100\n",
            "6/6 [==============================] - 0s 11ms/step - loss: 0.0267 - val_loss: 0.0560\n",
            "Epoch 54/100\n",
            "6/6 [==============================] - 0s 12ms/step - loss: 0.0127 - val_loss: 0.0498\n",
            "Epoch 55/100\n",
            "6/6 [==============================] - 0s 14ms/step - loss: 0.0121 - val_loss: 0.0858\n",
            "Epoch 56/100\n",
            "6/6 [==============================] - 0s 11ms/step - loss: 0.0131 - val_loss: 0.0568\n",
            "Epoch 57/100\n",
            "6/6 [==============================] - 0s 13ms/step - loss: 0.0154 - val_loss: 0.0859\n",
            "Epoch 58/100\n",
            "6/6 [==============================] - 0s 11ms/step - loss: 0.0093 - val_loss: 0.0652\n",
            "Epoch 59/100\n",
            "6/6 [==============================] - 0s 11ms/step - loss: 0.0078 - val_loss: 0.0806\n",
            "Epoch 60/100\n",
            "6/6 [==============================] - 0s 12ms/step - loss: 0.0083 - val_loss: 0.0673\n",
            "Epoch 61/100\n",
            "6/6 [==============================] - 0s 14ms/step - loss: 0.0067 - val_loss: 0.0660\n",
            "Epoch 62/100\n",
            "6/6 [==============================] - 0s 14ms/step - loss: 0.0071 - val_loss: 0.0601\n",
            "Epoch 63/100\n",
            "6/6 [==============================] - 0s 12ms/step - loss: 0.0069 - val_loss: 0.0555\n",
            "Epoch 64/100\n",
            "6/6 [==============================] - 0s 14ms/step - loss: 0.0068 - val_loss: 0.0657\n",
            "Epoch 65/100\n",
            "6/6 [==============================] - 0s 12ms/step - loss: 0.0071 - val_loss: 0.0528\n",
            "Epoch 66/100\n",
            "6/6 [==============================] - 0s 14ms/step - loss: 0.0093 - val_loss: 0.0719\n",
            "Epoch 67/100\n",
            "6/6 [==============================] - 0s 12ms/step - loss: 0.0110 - val_loss: 0.0868\n",
            "Epoch 68/100\n",
            "6/6 [==============================] - 0s 14ms/step - loss: 0.0112 - val_loss: 0.0590\n",
            "Epoch 69/100\n",
            "6/6 [==============================] - 0s 14ms/step - loss: 0.0104 - val_loss: 0.0666\n",
            "Epoch 70/100\n",
            "6/6 [==============================] - 0s 13ms/step - loss: 0.0066 - val_loss: 0.0675\n",
            "Epoch 71/100\n",
            "6/6 [==============================] - 0s 13ms/step - loss: 0.0062 - val_loss: 0.0631\n",
            "Epoch 72/100\n",
            "6/6 [==============================] - 0s 12ms/step - loss: 0.0068 - val_loss: 0.0714\n",
            "Epoch 73/100\n",
            "6/6 [==============================] - 0s 12ms/step - loss: 0.0067 - val_loss: 0.0593\n",
            "Epoch 74/100\n",
            "6/6 [==============================] - 0s 12ms/step - loss: 0.0080 - val_loss: 0.0908\n",
            "Epoch 75/100\n",
            "6/6 [==============================] - 0s 14ms/step - loss: 0.0098 - val_loss: 0.0670\n",
            "Epoch 76/100\n",
            "6/6 [==============================] - 0s 14ms/step - loss: 0.0055 - val_loss: 0.0654\n",
            "Epoch 77/100\n",
            "6/6 [==============================] - 0s 12ms/step - loss: 0.0058 - val_loss: 0.0652\n",
            "Epoch 78/100\n",
            "6/6 [==============================] - 0s 12ms/step - loss: 0.0056 - val_loss: 0.0653\n",
            "Epoch 79/100\n",
            "6/6 [==============================] - 0s 12ms/step - loss: 0.0057 - val_loss: 0.0586\n",
            "Epoch 80/100\n",
            "6/6 [==============================] - 0s 12ms/step - loss: 0.0059 - val_loss: 0.0782\n",
            "Epoch 81/100\n",
            "6/6 [==============================] - 0s 12ms/step - loss: 0.0060 - val_loss: 0.0611\n",
            "Epoch 82/100\n",
            "6/6 [==============================] - 0s 11ms/step - loss: 0.0063 - val_loss: 0.0842\n",
            "Epoch 83/100\n",
            "6/6 [==============================] - 0s 12ms/step - loss: 0.0057 - val_loss: 0.0643\n",
            "Epoch 84/100\n",
            "6/6 [==============================] - 0s 16ms/step - loss: 0.0065 - val_loss: 0.0612\n",
            "Epoch 85/100\n",
            "6/6 [==============================] - 0s 12ms/step - loss: 0.0060 - val_loss: 0.0665\n",
            "Epoch 86/100\n",
            "6/6 [==============================] - 0s 12ms/step - loss: 0.0079 - val_loss: 0.0581\n",
            "Epoch 87/100\n",
            "6/6 [==============================] - 0s 14ms/step - loss: 0.0065 - val_loss: 0.0781\n",
            "Epoch 88/100\n",
            "6/6 [==============================] - 0s 14ms/step - loss: 0.0103 - val_loss: 0.0649\n",
            "Epoch 89/100\n",
            "6/6 [==============================] - 0s 11ms/step - loss: 0.0066 - val_loss: 0.0752\n",
            "Epoch 90/100\n",
            "6/6 [==============================] - 0s 12ms/step - loss: 0.0054 - val_loss: 0.0725\n",
            "Epoch 91/100\n",
            "6/6 [==============================] - 0s 15ms/step - loss: 0.0053 - val_loss: 0.0718\n",
            "Epoch 92/100\n",
            "6/6 [==============================] - 0s 12ms/step - loss: 0.0056 - val_loss: 0.0640\n",
            "Epoch 93/100\n",
            "6/6 [==============================] - 0s 11ms/step - loss: 0.0059 - val_loss: 0.0634\n",
            "Epoch 94/100\n",
            "6/6 [==============================] - 0s 14ms/step - loss: 0.0064 - val_loss: 0.0757\n",
            "Epoch 95/100\n",
            "6/6 [==============================] - 0s 14ms/step - loss: 0.0068 - val_loss: 0.0722\n",
            "Epoch 96/100\n",
            "6/6 [==============================] - 0s 13ms/step - loss: 0.0078 - val_loss: 0.0605\n",
            "Epoch 97/100\n",
            "6/6 [==============================] - 0s 13ms/step - loss: 0.0092 - val_loss: 0.0736\n",
            "Epoch 98/100\n",
            "6/6 [==============================] - 0s 14ms/step - loss: 0.0071 - val_loss: 0.0622\n",
            "Epoch 99/100\n",
            "6/6 [==============================] - 0s 11ms/step - loss: 0.0073 - val_loss: 0.0757\n",
            "Epoch 100/100\n",
            "6/6 [==============================] - 0s 11ms/step - loss: 0.0060 - val_loss: 0.0700\n"
          ]
        },
        {
          "data": {
            "text/plain": [
              "<keras.src.callbacks.History at 0x7c3d043620e0>"
            ]
          },
          "execution_count": 19,
          "metadata": {},
          "output_type": "execute_result"
        }
      ],
      "source": [
        "model.fit(X_train,y_train,validation_data=(X_test,ytest),epochs=100,batch_size=4,verbose=1)"
      ]
    },
    {
      "cell_type": "code",
      "execution_count": null,
      "metadata": {
        "colab": {
          "base_uri": "https://localhost:8080/"
        },
        "id": "nIR57P8-s29k",
        "outputId": "a9891edf-80a3-4be4-d684-2a05d8f954b3"
      },
      "outputs": [
        {
          "name": "stdout",
          "output_type": "stream",
          "text": [
            "1/1 [==============================] - 1s 1s/step\n",
            "1/1 [==============================] - 0s 18ms/step\n"
          ]
        }
      ],
      "source": [
        "import tensorflow as tf\n",
        "\n",
        "### Lets Do the prediction and check performance metrics\n",
        "train_predict=model.predict(X_train)\n",
        "test_predict=model.predict(X_test)\n"
      ]
    },
    {
      "cell_type": "code",
      "execution_count": null,
      "metadata": {
        "id": "aB_j58FktLvN"
      },
      "outputs": [],
      "source": [
        "##Transformback to original form\n",
        "train_predict=scaler.inverse_transform(train_predict)\n",
        "test_predict=scaler.inverse_transform(test_predict)"
      ]
    },
    {
      "cell_type": "code",
      "execution_count": null,
      "metadata": {
        "colab": {
          "base_uri": "https://localhost:8080/"
        },
        "id": "9CAiJ0PZtNwR",
        "outputId": "6b10362b-d7a1-457e-8f54-2f312637f017"
      },
      "outputs": [
        {
          "data": {
            "text/plain": [
              "236.3717242634378"
            ]
          },
          "execution_count": 22,
          "metadata": {},
          "output_type": "execute_result"
        }
      ],
      "source": [
        "### Calculate RMSE performance metrics\n",
        "import math\n",
        "from sklearn.metrics import mean_squared_error\n",
        "math.sqrt(mean_squared_error(y_train,train_predict))"
      ]
    },
    {
      "cell_type": "code",
      "execution_count": null,
      "metadata": {
        "colab": {
          "base_uri": "https://localhost:8080/"
        },
        "id": "Lx78IO8wtP8w",
        "outputId": "69ed22f9-f586-4b29-fa99-4bb214abfc58"
      },
      "outputs": [
        {
          "data": {
            "text/plain": [
              "229.59203795313772"
            ]
          },
          "execution_count": 23,
          "metadata": {},
          "output_type": "execute_result"
        }
      ],
      "source": [
        "### Test Data RMSE\n",
        "math.sqrt(mean_squared_error(ytest,test_predict))"
      ]
    },
    {
      "cell_type": "code",
      "execution_count": null,
      "metadata": {
        "colab": {
          "base_uri": "https://localhost:8080/",
          "height": 430
        },
        "id": "6xPiIccWtzjj",
        "outputId": "5ec4f64c-1d86-42ca-c4be-1f74423d4739"
      },
      "outputs": [
        {
          "data": {
            "image/png": "[encoded data removed]",
            "text/plain": [
              "<Figure size 640x480 with 1 Axes>"
            ]
          },
          "metadata": {},
          "output_type": "display_data"
        }
      ],
      "source": [
        "### Plotting\n",
        "# shift train predictions for plotting\n",
        "look_back=5\n",
        "trainPredictPlot = numpy.empty_like(df1)\n",
        "trainPredictPlot[:, :] = np.nan\n",
        "trainPredictPlot[look_back:len(train_predict)+look_back, :] = train_predict\n",
        "# shift test predictions for plotting\n",
        "testPredictPlot = numpy.empty_like(df1)\n",
        "testPredictPlot[:, :] = numpy.nan\n",
        "testPredictPlot[len(train_predict)+(look_back*2)+1:len(df1)-1, :] = test_predict\n",
        "# plot baseline and predictions\n",
        "plt.plot(scaler.inverse_transform(df1))\n",
        "plt.plot(trainPredictPlot)\n",
        "plt.plot(testPredictPlot)\n",
        "plt.show()"
      ]
    },
    {
      "cell_type": "code",
      "execution_count": null,
      "metadata": {
        "colab": {
          "base_uri": "https://localhost:8080/"
        },
        "id": "YsaqVrdMt3w1",
        "outputId": "29aaff0b-85be-4cfe-df96-725e1a5fe0a0"
      },
      "outputs": [
        {
          "data": {
            "text/plain": [
              "17"
            ]
          },
          "execution_count": 25,
          "metadata": {},
          "output_type": "execute_result"
        }
      ],
      "source": [
        "len(test_data)"
      ]
    },
    {
      "cell_type": "code",
      "execution_count": null,
      "metadata": {
        "id": "sIqAr_xDQPv6"
      },
      "outputs": [],
      "source": [
        "x_input = test_data[12:].reshape(1,-1)"
      ]
    },
    {
      "cell_type": "code",
      "execution_count": null,
      "metadata": {
        "colab": {
          "base_uri": "https://localhost:8080/"
        },
        "id": "j4MMXqPbQZXq",
        "outputId": "f2ee06d3-1746-4cc7-e301-4ad5ef75b618"
      },
      "outputs": [
        {
          "data": {
            "text/plain": [
              "(1, 5)"
            ]
          },
          "execution_count": 27,
          "metadata": {},
          "output_type": "execute_result"
        }
      ],
      "source": [
        "x_input.shape"
      ]
    },
    {
      "cell_type": "code",
      "execution_count": null,
      "metadata": {
        "id": "G-a_uQmGQcXa"
      },
      "outputs": [],
      "source": [
        "temp_input = list(x_input)\n",
        "temp_input = temp_input[0].tolist()"
      ]
    },
    {
      "cell_type": "code",
      "execution_count": null,
      "metadata": {
        "colab": {
          "base_uri": "https://localhost:8080/"
        },
        "id": "MlXhYMZLQrRf",
        "outputId": "d0c8e336-0ca4-487f-c178-e95a21bd15d4"
      },
      "outputs": [
        {
          "name": "stdout",
          "output_type": "stream",
          "text": [
            "0 day input [ 1.01524436  0.61107892  0.17515159 -0.23453733 -0.6036675  -0.90906787\n",
            " -1.14151704 -1.30245972 -1.39339924 -1.42183435 -1.38779354 -1.26755822\n",
            " -0.99016297 -0.36417696]\n",
            "0 day output [[1.0675286]]\n",
            "1 day input [ 0.61107892  0.17515159 -0.23453733 -0.6036675  -0.90906787 -1.14151704\n",
            " -1.30245972 -1.39339924 -1.42183435 -1.38779354 -1.26755822 -0.99016297\n",
            " -0.36417696  1.06752861]\n",
            "1 day output [[3.245749]]\n",
            "2 day input [ 0.17515159 -0.23453733 -0.6036675  -0.90906787 -1.14151704 -1.30245972\n",
            " -1.39339924 -1.42183435 -1.38779354 -1.26755822 -0.99016297 -0.36417696\n",
            "  1.06752861  3.245749  ]\n",
            "2 day output [[5.092202]]\n",
            "3 day input [-0.23453733 -0.6036675  -0.90906787 -1.14151704 -1.30245972 -1.39339924\n",
            " -1.42183435 -1.38779354 -1.26755822 -0.99016297 -0.36417696  1.06752861\n",
            "  3.245749    5.09220219]\n",
            "3 day output [[6.2148147]]\n",
            "4 day input [-0.6036675  -0.90906787 -1.14151704 -1.30245972 -1.39339924 -1.42183435\n",
            " -1.38779354 -1.26755822 -0.99016297 -0.36417696  1.06752861  3.245749\n",
            "  5.09220219  6.21481466]\n",
            "4 day output [[6.232353]]\n",
            "5 day input [-0.90906787 -1.14151704 -1.30245972 -1.39339924 -1.42183435 -1.38779354\n",
            " -1.26755822 -0.99016297 -0.36417696  1.06752861  3.245749    5.09220219\n",
            "  6.21481466  6.23235321]\n",
            "5 day output [[5.6910996]]\n",
            "6 day input [-1.14151704 -1.30245972 -1.39339924 -1.42183435 -1.38779354 -1.26755822\n",
            " -0.99016297 -0.36417696  1.06752861  3.245749    5.09220219  6.21481466\n",
            "  6.23235321  5.69109964]\n",
            "6 day output [[5.0096354]]\n",
            "7 day input [-1.30245972 -1.39339924 -1.42183435 -1.38779354 -1.26755822 -0.99016297\n",
            " -0.36417696  1.06752861  3.245749    5.09220219  6.21481466  6.23235321\n",
            "  5.69109964  5.00963545]\n",
            "7 day output [[4.3990135]]\n",
            "8 day input [-1.39339924 -1.42183435 -1.38779354 -1.26755822 -0.99016297 -0.36417696\n",
            "  1.06752861  3.245749    5.09220219  6.21481466  6.23235321  5.69109964\n",
            "  5.00963545  4.39901352]\n",
            "8 day output [[3.8618813]]\n",
            "9 day input [-1.42183435 -1.38779354 -1.26755822 -0.99016297 -0.36417696  1.06752861\n",
            "  3.245749    5.09220219  6.21481466  6.23235321  5.69109964  5.00963545\n",
            "  4.39901352  3.86188126]\n",
            "9 day output [[3.391049]]\n",
            "[[1.0675286054611206], [3.245748996734619], [5.092202186584473], [6.21481466293335], [6.232353210449219], [5.691099643707275], [5.0096354484558105], [4.399013519287109], [3.8618812561035156], [3.3910489082336426]]\n"
          ]
        }
      ],
      "source": [
        "  # demonstrate prediction for next 10 days\n",
        "from numpy import array\n",
        "\n",
        "lst_output=[]\n",
        "n_steps=14\n",
        "i=0\n",
        "while(i<10):\n",
        "\n",
        "    if(len(temp_input)>14):\n",
        "        #print(temp_input)\n",
        "        x_input=np.array(temp_input[1:])\n",
        "        print(\"{} day input {}\".format(i,x_input))\n",
        "        x_input=x_input.reshape(1,-1)\n",
        "        x_input = x_input.reshape((1, n_steps, 1))\n",
        "        #print(x_input)\n",
        "        yhat = model.predict(x_input, verbose=0)\n",
        "        print(\"{} day output {}\".format(i,yhat))\n",
        "        temp_input.extend(yhat[0].tolist())\n",
        "        temp_input=temp_input[1:]\n",
        "        #print(temp_input)\n",
        "        lst_output.extend(yhat.tolist())\n",
        "        i=i+1\n",
        "    else:\n",
        "        x_input = x_input.reshape((1, n_steps,1))\n",
        "        yhat = model.predict(x_input, verbose=0)\n",
        "        print(yhat[0])\n",
        "        temp_input.extend(yhat[0].tolist())\n",
        "        print(len(temp_input))\n",
        "        lst_output.extend(yhat.tolist())\n",
        "        i=i+1\n",
        "\n",
        "\n",
        "print(lst_output)"
      ]
    },
    {
      "cell_type": "code",
      "execution_count": null,
      "metadata": {
        "id": "p8bvejjlcnga"
      },
      "outputs": [],
      "source": [
        "day_new=np.arange(1,15)\n",
        "day_pred=np.arange(15,25)"
      ]
    },
    {
      "cell_type": "code",
      "execution_count": null,
      "metadata": {
        "id": "DBnB-QcoeNoI"
      },
      "outputs": [],
      "source": [
        "import matplotlib.pyplot as plt"
      ]
    },
    {
      "cell_type": "code",
      "execution_count": null,
      "metadata": {
        "colab": {
          "base_uri": "https://localhost:8080/"
        },
        "id": "FclvXDToeP7e",
        "outputId": "9a69a45d-ebe0-456d-d51b-aa43a0d0cffb"
      },
      "outputs": [
        {
          "data": {
            "text/plain": [
              "47"
            ]
          },
          "execution_count": 71,
          "metadata": {},
          "output_type": "execute_result"
        }
      ],
      "source": [
        "len(df1)"
      ]
    },
    {
      "cell_type": "code",
      "execution_count": null,
      "metadata": {
        "colab": {
          "base_uri": "https://localhost:8080/",
          "height": 447
        },
        "id": "LJ0PLsteeSEJ",
        "outputId": "7a112c0b-1780-47cc-fa80-e96b648e562d"
      },
      "outputs": [
        {
          "data": {
            "text/plain": [
              "[<matplotlib.lines.Line2D at 0x7c3cf7a6a530>]"
            ]
          },
          "execution_count": 72,
          "metadata": {},
          "output_type": "execute_result"
        },
        {
          "data": {
            "image/png": "[encoded data removed]",
            "text/plain": [
              "<Figure size 640x480 with 1 Axes>"
            ]
          },
          "metadata": {},
          "output_type": "display_data"
        }
      ],
      "source": [
        "plt.plot(day_new,scaler.inverse_transform(df1[33:]))\n",
        "plt.plot(day_pred,scaler.inverse_transform(lst_output))"
      ]
    },
    {
      "cell_type": "code",
      "execution_count": null,
      "metadata": {
        "id": "bZu6OKLKeUu3"
      },
      "outputs": [],
      "source": []
    }
  ],
  "metadata": {
    "colab": {
      "provenance": []
    },
    "kernelspec": {
      "display_name": "Python 3",
      "name": "python3"
    },
    "language_info": {
      "codemirror_mode": {
        "name": "ipython",
        "version": 3
      },
      "file_extension": ".py",
      "mimetype": "text/x-python",
      "name": "python",
      "nbconvert_exporter": "python",
      "pygments_lexer": "ipython3",
      "version": "3.9.12"
    }
  },
  "nbformat": 4,
  "nbformat_minor": 0
}
